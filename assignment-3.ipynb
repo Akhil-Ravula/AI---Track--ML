{
 "cells": [
  {
   "cell_type": "code",
   "execution_count": 3,
   "metadata": {},
   "outputs": [
    {
     "name": "stdout",
     "output_type": "stream",
     "text": [
      "the local minimum occur at  2.6846247849867387e-27 4.589278841843358\n"
     ]
    }
   ],
   "source": [
    "import math\n",
    "x0=2\n",
    "y0=5\n",
    "eta=0.01\n",
    "eps=0.000001\n",
    "del_x=1\n",
    "del_y=1\n",
    "max_iters=1000\n",
    "iters=0\n",
    "def deriv(x,y):\n",
    "    return 6*x,5*math.exp(-y)\n",
    "while max(abs(del_x),abs(del_y))>eps and iters<max_iters:\n",
    "    del_x,del_y=deriv(x0,y0)\n",
    "    del_x=-eta*del_x\n",
    "    del_y=-eta*del_y\n",
    "    x0=x0+del_x\n",
    "    y0=y0+del_y\n",
    "    iters+=1\n",
    "print(\"the local minimum occur at \",x0,y0)\n",
    "   "
   ]
  },
  {
   "cell_type": "code",
   "execution_count": null,
   "metadata": {},
   "outputs": [],
   "source": []
  }
 ],
 "metadata": {
  "kernelspec": {
   "display_name": "Python 3",
   "language": "python",
   "name": "python3"
  },
  "language_info": {
   "codemirror_mode": {
    "name": "ipython",
    "version": 3
   },
   "file_extension": ".py",
   "mimetype": "text/x-python",
   "name": "python",
   "nbconvert_exporter": "python",
   "pygments_lexer": "ipython3",
   "version": "3.7.1"
  }
 },
 "nbformat": 4,
 "nbformat_minor": 2
}
